{
 "cells": [
  {
   "cell_type": "code",
   "execution_count": null,
   "id": "1ba948bd",
   "metadata": {},
   "outputs": [
    {
     "name": "stdout",
     "output_type": "stream",
     "text": [
      "   date_id  D1  D2  D3  D4  D5  D6  D7  D8  D9  ...  V3  V4  V5  V6  V7  V8  \\\n",
      "0        0   0   0   0   1   1   0   0   0   1  ... NaN NaN NaN NaN NaN NaN   \n",
      "1        1   0   0   0   1   1   0   0   0   1  ... NaN NaN NaN NaN NaN NaN   \n",
      "2        2   0   0   0   1   0   0   0   0   1  ... NaN NaN NaN NaN NaN NaN   \n",
      "3        3   0   0   0   1   0   0   0   0   0  ... NaN NaN NaN NaN NaN NaN   \n",
      "4        4   0   0   0   1   0   0   0   0   0  ... NaN NaN NaN NaN NaN NaN   \n",
      "\n",
      "   V9  forward_returns  risk_free_rate  market_forward_excess_returns  \n",
      "0 NaN        -0.002421        0.000301                      -0.003038  \n",
      "1 NaN        -0.008495        0.000303                      -0.009114  \n",
      "2 NaN        -0.009624        0.000301                      -0.010243  \n",
      "3 NaN         0.004662        0.000299                       0.004046  \n",
      "4 NaN        -0.011686        0.000299                      -0.012301  \n",
      "\n",
      "[5 rows x 98 columns]\n",
      "   date_id  D1  D2  D3  D4  D5  D6  D7  D8  D9  ...        V4        V5  \\\n",
      "0     8980   0   0   0   0   1   0   0   1   0  ...  0.828042  0.999172   \n",
      "1     8981   0   0   0   0   1   0   0   1   0  ...  0.831349  1.120336   \n",
      "2     8982   0   0   0   0   1   0   0   0   1  ...  0.832672  1.088992   \n",
      "3     8983   0   0   0   0   1   0   0   0   1  ...  0.835979  1.040988   \n",
      "4     8984   0   0   0   0   0   0   1   0   1  ...  0.839947  0.944593   \n",
      "\n",
      "         V6        V7        V8        V9  is_scored  lagged_forward_returns  \\\n",
      "0  0.759921 -0.803127  0.170966 -0.751909       True                0.003541   \n",
      "1  0.556217 -0.686192  0.141865 -0.660326       True               -0.005964   \n",
      "2  0.665344 -0.459367  0.199405 -0.510979       True               -0.007410   \n",
      "3  0.594577 -0.561643  0.161706 -0.575997       True                0.005420   \n",
      "4  0.715608 -0.692649  0.124669 -0.654045       True                0.008357   \n",
      "\n",
      "   lagged_risk_free_rate  lagged_market_forward_excess_returns  \n",
      "0               0.000161                              0.003068  \n",
      "1               0.000162                             -0.006437  \n",
      "2               0.000160                             -0.007882  \n",
      "3               0.000160                              0.004949  \n",
      "4               0.000159                              0.007887  \n",
      "\n",
      "[5 rows x 99 columns]\n"
     ]
    }
   ],
   "source": [
    "import pandas as pd\n",
    "\n",
    "import os\n",
    "\n",
    "# Kaggle définit automatiquement la variable d'environnement KAGGLE_URL_BASE\n",
    "ON_KAGGLE = \"KAGGLE_URL_BASE\" in os.environ\n",
    "\n",
    "if ON_KAGGLE:\n",
    "    DATA_PATH = \"/kaggle/input/hull-tactical-market-prediction/\"\n",
    "else:\n",
    "    DATA_PATH = \"../data/raw/\"\n",
    "\n",
    "\n",
    "\n",
    "train = pd.read_csv(os.path.join(DATA_PATH, \"train.csv\"))\n",
    "test = pd.read_csv(os.path.join(DATA_PATH, \"test.csv\"))\n",
    "\n"
   ]
  }
 ],
 "metadata": {
  "kernelspec": {
   "display_name": ".venv",
   "language": "python",
   "name": "python3"
  },
  "language_info": {
   "codemirror_mode": {
    "name": "ipython",
    "version": 3
   },
   "file_extension": ".py",
   "mimetype": "text/x-python",
   "name": "python",
   "nbconvert_exporter": "python",
   "pygments_lexer": "ipython3",
   "version": "3.11.5"
  }
 },
 "nbformat": 4,
 "nbformat_minor": 5
}
